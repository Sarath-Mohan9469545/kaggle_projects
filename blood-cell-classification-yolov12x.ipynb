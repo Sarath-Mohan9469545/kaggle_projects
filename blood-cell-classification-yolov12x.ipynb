{
 "cells": [
  {
   "cell_type": "markdown",
   "id": "dcb712ea",
   "metadata": {
    "papermill": {
     "duration": 0.004932,
     "end_time": "2025-04-09T00:02:32.846159",
     "exception": false,
     "start_time": "2025-04-09T00:02:32.841227",
     "status": "completed"
    },
    "tags": []
   },
   "source": [
    "## Install necessary packages"
   ]
  },
  {
   "cell_type": "code",
   "execution_count": 1,
   "id": "8f5c0764",
   "metadata": {
    "collapsed": true,
    "execution": {
     "iopub.execute_input": "2025-04-09T00:02:32.855677Z",
     "iopub.status.busy": "2025-04-09T00:02:32.855371Z",
     "iopub.status.idle": "2025-04-09T00:02:39.691197Z",
     "shell.execute_reply": "2025-04-09T00:02:39.690255Z"
    },
    "jupyter": {
     "outputs_hidden": true
    },
    "papermill": {
     "duration": 6.842577,
     "end_time": "2025-04-09T00:02:39.693010",
     "exception": false,
     "start_time": "2025-04-09T00:02:32.850433",
     "status": "completed"
    },
    "tags": []
   },
   "outputs": [
    {
     "name": "stdout",
     "output_type": "stream",
     "text": [
      "Collecting roboflow\r\n",
      "  Downloading roboflow-1.1.60-py3-none-any.whl.metadata (9.7 kB)\r\n",
      "Requirement already satisfied: certifi in /usr/local/lib/python3.10/dist-packages (from roboflow) (2025.1.31)\r\n",
      "Collecting idna==3.7 (from roboflow)\r\n",
      "  Downloading idna-3.7-py3-none-any.whl.metadata (9.9 kB)\r\n",
      "Requirement already satisfied: cycler in /usr/local/lib/python3.10/dist-packages (from roboflow) (0.12.1)\r\n",
      "Requirement already satisfied: kiwisolver>=1.3.1 in /usr/local/lib/python3.10/dist-packages (from roboflow) (1.4.7)\r\n",
      "Requirement already satisfied: matplotlib in /usr/local/lib/python3.10/dist-packages (from roboflow) (3.7.5)\r\n",
      "Requirement already satisfied: numpy>=1.18.5 in /usr/local/lib/python3.10/dist-packages (from roboflow) (1.26.4)\r\n",
      "Requirement already satisfied: opencv-python-headless==4.10.0.84 in /usr/local/lib/python3.10/dist-packages (from roboflow) (4.10.0.84)\r\n",
      "Requirement already satisfied: Pillow>=7.1.2 in /usr/local/lib/python3.10/dist-packages (from roboflow) (11.0.0)\r\n",
      "Collecting pillow-heif>=0.18.0 (from roboflow)\r\n",
      "  Downloading pillow_heif-0.22.0-cp310-cp310-manylinux_2_17_x86_64.manylinux2014_x86_64.whl.metadata (9.6 kB)\r\n",
      "Requirement already satisfied: python-dateutil in /usr/local/lib/python3.10/dist-packages (from roboflow) (2.9.0.post0)\r\n",
      "Collecting python-dotenv (from roboflow)\r\n",
      "  Downloading python_dotenv-1.1.0-py3-none-any.whl.metadata (24 kB)\r\n",
      "Requirement already satisfied: requests in /usr/local/lib/python3.10/dist-packages (from roboflow) (2.32.3)\r\n",
      "Requirement already satisfied: six in /usr/local/lib/python3.10/dist-packages (from roboflow) (1.17.0)\r\n",
      "Requirement already satisfied: urllib3>=1.26.6 in /usr/local/lib/python3.10/dist-packages (from roboflow) (2.3.0)\r\n",
      "Requirement already satisfied: tqdm>=4.41.0 in /usr/local/lib/python3.10/dist-packages (from roboflow) (4.67.1)\r\n",
      "Requirement already satisfied: PyYAML>=5.3.1 in /usr/local/lib/python3.10/dist-packages (from roboflow) (6.0.2)\r\n",
      "Requirement already satisfied: requests-toolbelt in /usr/local/lib/python3.10/dist-packages (from roboflow) (1.0.0)\r\n",
      "Collecting filetype (from roboflow)\r\n",
      "  Downloading filetype-1.2.0-py2.py3-none-any.whl.metadata (6.5 kB)\r\n",
      "Requirement already satisfied: mkl_fft in /usr/local/lib/python3.10/dist-packages (from numpy>=1.18.5->roboflow) (1.3.8)\r\n",
      "Requirement already satisfied: mkl_random in /usr/local/lib/python3.10/dist-packages (from numpy>=1.18.5->roboflow) (1.2.4)\r\n",
      "Requirement already satisfied: mkl_umath in /usr/local/lib/python3.10/dist-packages (from numpy>=1.18.5->roboflow) (0.1.1)\r\n",
      "Requirement already satisfied: mkl in /usr/local/lib/python3.10/dist-packages (from numpy>=1.18.5->roboflow) (2025.0.1)\r\n",
      "Requirement already satisfied: tbb4py in /usr/local/lib/python3.10/dist-packages (from numpy>=1.18.5->roboflow) (2022.0.0)\r\n",
      "Requirement already satisfied: mkl-service in /usr/local/lib/python3.10/dist-packages (from numpy>=1.18.5->roboflow) (2.4.1)\r\n",
      "Requirement already satisfied: contourpy>=1.0.1 in /usr/local/lib/python3.10/dist-packages (from matplotlib->roboflow) (1.3.1)\r\n",
      "Requirement already satisfied: fonttools>=4.22.0 in /usr/local/lib/python3.10/dist-packages (from matplotlib->roboflow) (4.55.3)\r\n",
      "Requirement already satisfied: packaging>=20.0 in /usr/local/lib/python3.10/dist-packages (from matplotlib->roboflow) (24.2)\r\n",
      "Requirement already satisfied: pyparsing>=2.3.1 in /usr/local/lib/python3.10/dist-packages (from matplotlib->roboflow) (3.2.0)\r\n",
      "Requirement already satisfied: charset-normalizer<4,>=2 in /usr/local/lib/python3.10/dist-packages (from requests->roboflow) (3.4.1)\r\n",
      "Requirement already satisfied: intel-openmp>=2024 in /usr/local/lib/python3.10/dist-packages (from mkl->numpy>=1.18.5->roboflow) (2024.2.0)\r\n",
      "Requirement already satisfied: tbb==2022.* in /usr/local/lib/python3.10/dist-packages (from mkl->numpy>=1.18.5->roboflow) (2022.0.0)\r\n",
      "Requirement already satisfied: tcmlib==1.* in /usr/local/lib/python3.10/dist-packages (from tbb==2022.*->mkl->numpy>=1.18.5->roboflow) (1.2.0)\r\n",
      "Requirement already satisfied: intel-cmplr-lib-rt in /usr/local/lib/python3.10/dist-packages (from mkl_umath->numpy>=1.18.5->roboflow) (2024.2.0)\r\n",
      "Requirement already satisfied: intel-cmplr-lib-ur==2024.2.0 in /usr/local/lib/python3.10/dist-packages (from intel-openmp>=2024->mkl->numpy>=1.18.5->roboflow) (2024.2.0)\r\n",
      "Downloading roboflow-1.1.60-py3-none-any.whl (84 kB)\r\n",
      "\u001b[2K   \u001b[90m━━━━━━━━━━━━━━━━━━━━━━━━━━━━━━━━━━━━━━━━\u001b[0m \u001b[32m84.5/84.5 kB\u001b[0m \u001b[31m3.7 MB/s\u001b[0m eta \u001b[36m0:00:00\u001b[0m\r\n",
      "\u001b[?25hDownloading idna-3.7-py3-none-any.whl (66 kB)\r\n",
      "\u001b[2K   \u001b[90m━━━━━━━━━━━━━━━━━━━━━━━━━━━━━━━━━━━━━━━━\u001b[0m \u001b[32m66.8/66.8 kB\u001b[0m \u001b[31m3.5 MB/s\u001b[0m eta \u001b[36m0:00:00\u001b[0m\r\n",
      "\u001b[?25hDownloading pillow_heif-0.22.0-cp310-cp310-manylinux_2_17_x86_64.manylinux2014_x86_64.whl (7.8 MB)\r\n",
      "\u001b[2K   \u001b[90m━━━━━━━━━━━━━━━━━━━━━━━━━━━━━━━━━━━━━━━━\u001b[0m \u001b[32m7.8/7.8 MB\u001b[0m \u001b[31m12.4 MB/s\u001b[0m eta \u001b[36m0:00:00\u001b[0m\r\n",
      "\u001b[?25hDownloading filetype-1.2.0-py2.py3-none-any.whl (19 kB)\r\n",
      "Downloading python_dotenv-1.1.0-py3-none-any.whl (20 kB)\r\n",
      "Installing collected packages: filetype, python-dotenv, pillow-heif, idna, roboflow\r\n",
      "  Attempting uninstall: idna\r\n",
      "    Found existing installation: idna 3.10\r\n",
      "    Uninstalling idna-3.10:\r\n",
      "      Successfully uninstalled idna-3.10\r\n",
      "\u001b[31mERROR: pip's dependency resolver does not currently take into account all the packages that are installed. This behaviour is the source of the following dependency conflicts.\r\n",
      "tensorflow-decision-forests 1.10.0 requires tensorflow==2.17.0, but you have tensorflow 2.17.1 which is incompatible.\u001b[0m\u001b[31m\r\n",
      "\u001b[0mSuccessfully installed filetype-1.2.0 idna-3.7 pillow-heif-0.22.0 python-dotenv-1.1.0 roboflow-1.1.60\r\n"
     ]
    }
   ],
   "source": [
    "!pip install roboflow             "
   ]
  },
  {
   "cell_type": "code",
   "execution_count": 2,
   "id": "e63169d4",
   "metadata": {
    "collapsed": true,
    "execution": {
     "iopub.execute_input": "2025-04-09T00:02:39.704601Z",
     "iopub.status.busy": "2025-04-09T00:02:39.704361Z",
     "iopub.status.idle": "2025-04-09T00:02:44.460984Z",
     "shell.execute_reply": "2025-04-09T00:02:44.459821Z"
    },
    "jupyter": {
     "outputs_hidden": true
    },
    "papermill": {
     "duration": 4.764162,
     "end_time": "2025-04-09T00:02:44.462891",
     "exception": false,
     "start_time": "2025-04-09T00:02:39.698729",
     "status": "completed"
    },
    "tags": []
   },
   "outputs": [
    {
     "name": "stdout",
     "output_type": "stream",
     "text": [
      "Collecting ultralytics\r\n",
      "  Downloading ultralytics-8.3.105-py3-none-any.whl.metadata (37 kB)\r\n",
      "Requirement already satisfied: numpy<=2.1.1,>=1.23.0 in /usr/local/lib/python3.10/dist-packages (from ultralytics) (1.26.4)\r\n",
      "Requirement already satisfied: matplotlib>=3.3.0 in /usr/local/lib/python3.10/dist-packages (from ultralytics) (3.7.5)\r\n",
      "Requirement already satisfied: opencv-python>=4.6.0 in /usr/local/lib/python3.10/dist-packages (from ultralytics) (4.10.0.84)\r\n",
      "Requirement already satisfied: pillow>=7.1.2 in /usr/local/lib/python3.10/dist-packages (from ultralytics) (11.0.0)\r\n",
      "Requirement already satisfied: pyyaml>=5.3.1 in /usr/local/lib/python3.10/dist-packages (from ultralytics) (6.0.2)\r\n",
      "Requirement already satisfied: requests>=2.23.0 in /usr/local/lib/python3.10/dist-packages (from ultralytics) (2.32.3)\r\n",
      "Requirement already satisfied: scipy>=1.4.1 in /usr/local/lib/python3.10/dist-packages (from ultralytics) (1.13.1)\r\n",
      "Requirement already satisfied: torch>=1.8.0 in /usr/local/lib/python3.10/dist-packages (from ultralytics) (2.5.1+cu121)\r\n",
      "Requirement already satisfied: torchvision>=0.9.0 in /usr/local/lib/python3.10/dist-packages (from ultralytics) (0.20.1+cu121)\r\n",
      "Requirement already satisfied: tqdm>=4.64.0 in /usr/local/lib/python3.10/dist-packages (from ultralytics) (4.67.1)\r\n",
      "Requirement already satisfied: psutil in /usr/local/lib/python3.10/dist-packages (from ultralytics) (5.9.5)\r\n",
      "Requirement already satisfied: py-cpuinfo in /usr/local/lib/python3.10/dist-packages (from ultralytics) (9.0.0)\r\n",
      "Requirement already satisfied: pandas>=1.1.4 in /usr/local/lib/python3.10/dist-packages (from ultralytics) (2.2.3)\r\n",
      "Requirement already satisfied: seaborn>=0.11.0 in /usr/local/lib/python3.10/dist-packages (from ultralytics) (0.12.2)\r\n",
      "Collecting ultralytics-thop>=2.0.0 (from ultralytics)\r\n",
      "  Downloading ultralytics_thop-2.0.14-py3-none-any.whl.metadata (9.4 kB)\r\n",
      "Requirement already satisfied: contourpy>=1.0.1 in /usr/local/lib/python3.10/dist-packages (from matplotlib>=3.3.0->ultralytics) (1.3.1)\r\n",
      "Requirement already satisfied: cycler>=0.10 in /usr/local/lib/python3.10/dist-packages (from matplotlib>=3.3.0->ultralytics) (0.12.1)\r\n",
      "Requirement already satisfied: fonttools>=4.22.0 in /usr/local/lib/python3.10/dist-packages (from matplotlib>=3.3.0->ultralytics) (4.55.3)\r\n",
      "Requirement already satisfied: kiwisolver>=1.0.1 in /usr/local/lib/python3.10/dist-packages (from matplotlib>=3.3.0->ultralytics) (1.4.7)\r\n",
      "Requirement already satisfied: packaging>=20.0 in /usr/local/lib/python3.10/dist-packages (from matplotlib>=3.3.0->ultralytics) (24.2)\r\n",
      "Requirement already satisfied: pyparsing>=2.3.1 in /usr/local/lib/python3.10/dist-packages (from matplotlib>=3.3.0->ultralytics) (3.2.0)\r\n",
      "Requirement already satisfied: python-dateutil>=2.7 in /usr/local/lib/python3.10/dist-packages (from matplotlib>=3.3.0->ultralytics) (2.9.0.post0)\r\n",
      "Requirement already satisfied: mkl_fft in /usr/local/lib/python3.10/dist-packages (from numpy<=2.1.1,>=1.23.0->ultralytics) (1.3.8)\r\n",
      "Requirement already satisfied: mkl_random in /usr/local/lib/python3.10/dist-packages (from numpy<=2.1.1,>=1.23.0->ultralytics) (1.2.4)\r\n",
      "Requirement already satisfied: mkl_umath in /usr/local/lib/python3.10/dist-packages (from numpy<=2.1.1,>=1.23.0->ultralytics) (0.1.1)\r\n",
      "Requirement already satisfied: mkl in /usr/local/lib/python3.10/dist-packages (from numpy<=2.1.1,>=1.23.0->ultralytics) (2025.0.1)\r\n",
      "Requirement already satisfied: tbb4py in /usr/local/lib/python3.10/dist-packages (from numpy<=2.1.1,>=1.23.0->ultralytics) (2022.0.0)\r\n",
      "Requirement already satisfied: mkl-service in /usr/local/lib/python3.10/dist-packages (from numpy<=2.1.1,>=1.23.0->ultralytics) (2.4.1)\r\n",
      "Requirement already satisfied: pytz>=2020.1 in /usr/local/lib/python3.10/dist-packages (from pandas>=1.1.4->ultralytics) (2025.1)\r\n",
      "Requirement already satisfied: tzdata>=2022.7 in /usr/local/lib/python3.10/dist-packages (from pandas>=1.1.4->ultralytics) (2025.1)\r\n",
      "Requirement already satisfied: charset-normalizer<4,>=2 in /usr/local/lib/python3.10/dist-packages (from requests>=2.23.0->ultralytics) (3.4.1)\r\n",
      "Requirement already satisfied: idna<4,>=2.5 in /usr/local/lib/python3.10/dist-packages (from requests>=2.23.0->ultralytics) (3.7)\r\n",
      "Requirement already satisfied: urllib3<3,>=1.21.1 in /usr/local/lib/python3.10/dist-packages (from requests>=2.23.0->ultralytics) (2.3.0)\r\n",
      "Requirement already satisfied: certifi>=2017.4.17 in /usr/local/lib/python3.10/dist-packages (from requests>=2.23.0->ultralytics) (2025.1.31)\r\n",
      "Requirement already satisfied: filelock in /usr/local/lib/python3.10/dist-packages (from torch>=1.8.0->ultralytics) (3.17.0)\r\n",
      "Requirement already satisfied: typing-extensions>=4.8.0 in /usr/local/lib/python3.10/dist-packages (from torch>=1.8.0->ultralytics) (4.12.2)\r\n",
      "Requirement already satisfied: networkx in /usr/local/lib/python3.10/dist-packages (from torch>=1.8.0->ultralytics) (3.4.2)\r\n",
      "Requirement already satisfied: jinja2 in /usr/local/lib/python3.10/dist-packages (from torch>=1.8.0->ultralytics) (3.1.4)\r\n",
      "Requirement already satisfied: fsspec in /usr/local/lib/python3.10/dist-packages (from torch>=1.8.0->ultralytics) (2024.12.0)\r\n",
      "Requirement already satisfied: sympy==1.13.1 in /usr/local/lib/python3.10/dist-packages (from torch>=1.8.0->ultralytics) (1.13.1)\r\n",
      "Requirement already satisfied: mpmath<1.4,>=1.1.0 in /usr/local/lib/python3.10/dist-packages (from sympy==1.13.1->torch>=1.8.0->ultralytics) (1.3.0)\r\n",
      "Requirement already satisfied: six>=1.5 in /usr/local/lib/python3.10/dist-packages (from python-dateutil>=2.7->matplotlib>=3.3.0->ultralytics) (1.17.0)\r\n",
      "Requirement already satisfied: MarkupSafe>=2.0 in /usr/local/lib/python3.10/dist-packages (from jinja2->torch>=1.8.0->ultralytics) (3.0.2)\r\n",
      "Requirement already satisfied: intel-openmp>=2024 in /usr/local/lib/python3.10/dist-packages (from mkl->numpy<=2.1.1,>=1.23.0->ultralytics) (2024.2.0)\r\n",
      "Requirement already satisfied: tbb==2022.* in /usr/local/lib/python3.10/dist-packages (from mkl->numpy<=2.1.1,>=1.23.0->ultralytics) (2022.0.0)\r\n",
      "Requirement already satisfied: tcmlib==1.* in /usr/local/lib/python3.10/dist-packages (from tbb==2022.*->mkl->numpy<=2.1.1,>=1.23.0->ultralytics) (1.2.0)\r\n",
      "Requirement already satisfied: intel-cmplr-lib-rt in /usr/local/lib/python3.10/dist-packages (from mkl_umath->numpy<=2.1.1,>=1.23.0->ultralytics) (2024.2.0)\r\n",
      "Requirement already satisfied: intel-cmplr-lib-ur==2024.2.0 in /usr/local/lib/python3.10/dist-packages (from intel-openmp>=2024->mkl->numpy<=2.1.1,>=1.23.0->ultralytics) (2024.2.0)\r\n",
      "Downloading ultralytics-8.3.105-py3-none-any.whl (994 kB)\r\n",
      "\u001b[2K   \u001b[90m━━━━━━━━━━━━━━━━━━━━━━━━━━━━━━━━━━━━━━━━\u001b[0m \u001b[32m994.0/994.0 kB\u001b[0m \u001b[31m25.9 MB/s\u001b[0m eta \u001b[36m0:00:00\u001b[0m\r\n",
      "\u001b[?25hDownloading ultralytics_thop-2.0.14-py3-none-any.whl (26 kB)\r\n",
      "Installing collected packages: ultralytics-thop, ultralytics\r\n",
      "Successfully installed ultralytics-8.3.105 ultralytics-thop-2.0.14\r\n"
     ]
    }
   ],
   "source": [
    "!pip install ultralytics"
   ]
  },
  {
   "cell_type": "markdown",
   "id": "aec8dde5",
   "metadata": {
    "papermill": {
     "duration": 0.005571,
     "end_time": "2025-04-09T00:02:44.474878",
     "exception": false,
     "start_time": "2025-04-09T00:02:44.469307",
     "status": "completed"
    },
    "tags": []
   },
   "source": [
    "## Importing necessary packages"
   ]
  },
  {
   "cell_type": "code",
   "execution_count": 3,
   "id": "b8eb7841",
   "metadata": {
    "_cell_guid": "b1076dfc-b9ad-4769-8c92-a6c4dae69d19",
    "_uuid": "8f2839f25d086af736a60e9eeb907d3b93b6e0e5",
    "execution": {
     "iopub.execute_input": "2025-04-09T00:02:44.487462Z",
     "iopub.status.busy": "2025-04-09T00:02:44.487136Z",
     "iopub.status.idle": "2025-04-09T00:02:50.642000Z",
     "shell.execute_reply": "2025-04-09T00:02:50.641122Z"
    },
    "papermill": {
     "duration": 6.163061,
     "end_time": "2025-04-09T00:02:50.643650",
     "exception": false,
     "start_time": "2025-04-09T00:02:44.480589",
     "status": "completed"
    },
    "tags": []
   },
   "outputs": [
    {
     "name": "stdout",
     "output_type": "stream",
     "text": [
      "Creating new Ultralytics Settings v0.0.6 file ✅ \n",
      "View Ultralytics Settings with 'yolo settings' or at '/root/.config/Ultralytics/settings.json'\n",
      "Update Settings with 'yolo settings key=value', i.e. 'yolo settings runs_dir=path/to/dir'. For help see https://docs.ultralytics.com/quickstart/#ultralytics-settings.\n"
     ]
    }
   ],
   "source": [
    "import matplotlib.pyplot as plt\n",
    "import numpy as np\n",
    "import cv2\n",
    "import yaml\n",
    "import matplotlib.patches as patches\n",
    "from ultralytics import YOLO\n",
    "from roboflow import Roboflow\n",
    "from kaggle_secrets import UserSecretsClient"
   ]
  },
  {
   "cell_type": "markdown",
   "id": "c5285917",
   "metadata": {
    "papermill": {
     "duration": 0.005679,
     "end_time": "2025-04-09T00:02:50.655617",
     "exception": false,
     "start_time": "2025-04-09T00:02:50.649938",
     "status": "completed"
    },
    "tags": []
   },
   "source": [
    "## Downloading dataset"
   ]
  },
  {
   "cell_type": "code",
   "execution_count": 4,
   "id": "94be9d88",
   "metadata": {
    "execution": {
     "iopub.execute_input": "2025-04-09T00:02:50.668201Z",
     "iopub.status.busy": "2025-04-09T00:02:50.667806Z",
     "iopub.status.idle": "2025-04-09T00:02:50.670970Z",
     "shell.execute_reply": "2025-04-09T00:02:50.670297Z"
    },
    "papermill": {
     "duration": 0.010728,
     "end_time": "2025-04-09T00:02:50.672291",
     "exception": false,
     "start_time": "2025-04-09T00:02:50.661563",
     "status": "completed"
    },
    "tags": []
   },
   "outputs": [],
   "source": [
    "# you can download the dataset from:\n",
    "# https://universe.roboflow.com/sarath-mohan-cd5tg/blood-cell-classification-juuw1-siatx/dataset/1"
   ]
  },
  {
   "cell_type": "code",
   "execution_count": 5,
   "id": "079af652",
   "metadata": {
    "execution": {
     "iopub.execute_input": "2025-04-09T00:02:50.684931Z",
     "iopub.status.busy": "2025-04-09T00:02:50.684676Z",
     "iopub.status.idle": "2025-04-09T00:02:50.926062Z",
     "shell.execute_reply": "2025-04-09T00:02:50.925092Z"
    },
    "papermill": {
     "duration": 0.24951,
     "end_time": "2025-04-09T00:02:50.927722",
     "exception": false,
     "start_time": "2025-04-09T00:02:50.678212",
     "status": "completed"
    },
    "tags": []
   },
   "outputs": [],
   "source": [
    "secret_label = \"api-key\"\n",
    "secret_value = UserSecretsClient().get_secret(secret_label)"
   ]
  },
  {
   "cell_type": "code",
   "execution_count": 6,
   "id": "724c22b5",
   "metadata": {
    "execution": {
     "iopub.execute_input": "2025-04-09T00:02:50.940928Z",
     "iopub.status.busy": "2025-04-09T00:02:50.940643Z",
     "iopub.status.idle": "2025-04-09T00:03:02.913906Z",
     "shell.execute_reply": "2025-04-09T00:03:02.912944Z"
    },
    "papermill": {
     "duration": 11.981085,
     "end_time": "2025-04-09T00:03:02.915236",
     "exception": false,
     "start_time": "2025-04-09T00:02:50.934151",
     "status": "completed"
    },
    "tags": []
   },
   "outputs": [
    {
     "name": "stdout",
     "output_type": "stream",
     "text": [
      "loading Roboflow workspace...\n",
      "loading Roboflow project...\n"
     ]
    },
    {
     "name": "stderr",
     "output_type": "stream",
     "text": [
      "Downloading Dataset Version Zip in Blood-Cell-Classification-1 to yolov12:: 100%|██████████| 73216/73216 [00:01<00:00, 55960.54it/s]"
     ]
    },
    {
     "name": "stdout",
     "output_type": "stream",
     "text": [
      "\n"
     ]
    },
    {
     "name": "stderr",
     "output_type": "stream",
     "text": [
      "\n",
      "Extracting Dataset Version Zip to Blood-Cell-Classification-1 in yolov12:: 100%|██████████| 21192/21192 [00:02<00:00, 10405.04it/s]\n"
     ]
    }
   ],
   "source": [
    "\n",
    "rf = Roboflow(api_key=secret_value)\n",
    "project = rf.workspace(\"sarath-mohan-cd5tg\").project(\"blood-cell-classification-juuw1-siatx\")\n",
    "version = project.version(1)\n",
    "dataset = version.download(\"yolov12\")"
   ]
  },
  {
   "cell_type": "markdown",
   "id": "cefd2e28",
   "metadata": {
    "papermill": {
     "duration": 0.007471,
     "end_time": "2025-04-09T00:03:02.931032",
     "exception": false,
     "start_time": "2025-04-09T00:03:02.923561",
     "status": "completed"
    },
    "tags": []
   },
   "source": [
    "## Plotting demo image "
   ]
  },
  {
   "cell_type": "code",
   "execution_count": 7,
   "id": "6a52b9c2",
   "metadata": {
    "execution": {
     "iopub.execute_input": "2025-04-09T00:03:02.947336Z",
     "iopub.status.busy": "2025-04-09T00:03:02.946980Z",
     "iopub.status.idle": "2025-04-09T00:03:02.966455Z",
     "shell.execute_reply": "2025-04-09T00:03:02.965544Z"
    },
    "papermill": {
     "duration": 0.029549,
     "end_time": "2025-04-09T00:03:02.967996",
     "exception": false,
     "start_time": "2025-04-09T00:03:02.938447",
     "status": "completed"
    },
    "tags": []
   },
   "outputs": [],
   "source": [
    "demo_image = cv2.imread(\"/kaggle/working/Blood-Cell-Classification-1/train/images/BNE_100878_jpg.rf.14267a793a6f3e0346819020add4d9f5.jpg\")"
   ]
  },
  {
   "cell_type": "code",
   "execution_count": 8,
   "id": "ea96c24b",
   "metadata": {
    "execution": {
     "iopub.execute_input": "2025-04-09T00:03:02.984675Z",
     "iopub.status.busy": "2025-04-09T00:03:02.984367Z",
     "iopub.status.idle": "2025-04-09T00:03:02.988573Z",
     "shell.execute_reply": "2025-04-09T00:03:02.987817Z"
    },
    "papermill": {
     "duration": 0.013874,
     "end_time": "2025-04-09T00:03:02.989867",
     "exception": false,
     "start_time": "2025-04-09T00:03:02.975993",
     "status": "completed"
    },
    "tags": []
   },
   "outputs": [],
   "source": [
    "demo_label_path = \"/kaggle/working/Blood-Cell-Classification-1/train/labels/BNE_100878_jpg.rf.14267a793a6f3e0346819020add4d9f5.txt\"\n",
    "demo_label_file = open(demo_label_path,\"r\")\n",
    "demo_labels = demo_label_file.read()\n",
    "demo_label_file.close()"
   ]
  },
  {
   "cell_type": "code",
   "execution_count": 9,
   "id": "293d2b46",
   "metadata": {
    "execution": {
     "iopub.execute_input": "2025-04-09T00:03:03.006933Z",
     "iopub.status.busy": "2025-04-09T00:03:03.006690Z",
     "iopub.status.idle": "2025-04-09T00:03:03.009918Z",
     "shell.execute_reply": "2025-04-09T00:03:03.009263Z"
    },
    "papermill": {
     "duration": 0.012558,
     "end_time": "2025-04-09T00:03:03.011230",
     "exception": false,
     "start_time": "2025-04-09T00:03:02.998672",
     "status": "completed"
    },
    "tags": []
   },
   "outputs": [],
   "source": [
    "labels = ['eosinophil', 'lymphocyte', 'neutrophil', 'platelet']"
   ]
  },
  {
   "cell_type": "code",
   "execution_count": 10,
   "id": "ded64137",
   "metadata": {
    "execution": {
     "iopub.execute_input": "2025-04-09T00:03:03.027460Z",
     "iopub.status.busy": "2025-04-09T00:03:03.027202Z",
     "iopub.status.idle": "2025-04-09T00:03:03.030790Z",
     "shell.execute_reply": "2025-04-09T00:03:03.029881Z"
    },
    "papermill": {
     "duration": 0.013093,
     "end_time": "2025-04-09T00:03:03.032126",
     "exception": false,
     "start_time": "2025-04-09T00:03:03.019033",
     "status": "completed"
    },
    "tags": []
   },
   "outputs": [],
   "source": [
    "demo_labels = demo_labels.split()\n",
    "demo_labels = [float(x) for x in demo_labels]"
   ]
  },
  {
   "cell_type": "code",
   "execution_count": 11,
   "id": "613f4105",
   "metadata": {
    "execution": {
     "iopub.execute_input": "2025-04-09T00:03:03.047907Z",
     "iopub.status.busy": "2025-04-09T00:03:03.047696Z",
     "iopub.status.idle": "2025-04-09T00:03:03.051017Z",
     "shell.execute_reply": "2025-04-09T00:03:03.050340Z"
    },
    "papermill": {
     "duration": 0.012616,
     "end_time": "2025-04-09T00:03:03.052277",
     "exception": false,
     "start_time": "2025-04-09T00:03:03.039661",
     "status": "completed"
    },
    "tags": []
   },
   "outputs": [],
   "source": [
    "class_label,x,y,w,h = demo_labels"
   ]
  },
  {
   "cell_type": "code",
   "execution_count": 12,
   "id": "7a880daf",
   "metadata": {
    "execution": {
     "iopub.execute_input": "2025-04-09T00:03:03.067853Z",
     "iopub.status.busy": "2025-04-09T00:03:03.067625Z",
     "iopub.status.idle": "2025-04-09T00:03:03.070623Z",
     "shell.execute_reply": "2025-04-09T00:03:03.069939Z"
    },
    "papermill": {
     "duration": 0.012112,
     "end_time": "2025-04-09T00:03:03.071871",
     "exception": false,
     "start_time": "2025-04-09T00:03:03.059759",
     "status": "completed"
    },
    "tags": []
   },
   "outputs": [],
   "source": [
    "image_x,image_y,channels = np.shape(demo_image)"
   ]
  },
  {
   "cell_type": "code",
   "execution_count": 13,
   "id": "4aed3bbc",
   "metadata": {
    "execution": {
     "iopub.execute_input": "2025-04-09T00:03:03.088071Z",
     "iopub.status.busy": "2025-04-09T00:03:03.087818Z",
     "iopub.status.idle": "2025-04-09T00:03:03.329382Z",
     "shell.execute_reply": "2025-04-09T00:03:03.328395Z"
    },
    "papermill": {
     "duration": 0.252961,
     "end_time": "2025-04-09T00:03:03.332507",
     "exception": false,
     "start_time": "2025-04-09T00:03:03.079546",
     "status": "completed"
    },
    "tags": []
   },
   "outputs": [
    {
     "data": {
      "image/png": "[encoded data removed]",
      "text/plain": [
       "<Figure size 640x480 with 1 Axes>"
      ]
     },
     "metadata": {},
     "output_type": "display_data"
    }
   ],
   "source": [
    "# Plotting a sample image\n",
    "fig, ax = plt.subplots()\n",
    "plt.imshow(demo_image)\n",
    "plt.axis(\"off\")\n",
    "rect = patches.Rectangle(((x-w/2)*image_x, (y-h/2)*image_y), w*image_x, h*image_y, \n",
    "                         linewidth=1, edgecolor='r', facecolor='none',label = labels[int(class_label)])\n",
    "ax.add_patch(rect)\n",
    "plt.legend()\n",
    "plt.title(\"Sample image\")\n",
    "plt.show()"
   ]
  },
  {
   "cell_type": "markdown",
   "id": "b9990dea",
   "metadata": {
    "papermill": {
     "duration": 0.009907,
     "end_time": "2025-04-09T00:03:03.353557",
     "exception": false,
     "start_time": "2025-04-09T00:03:03.343650",
     "status": "completed"
    },
    "tags": []
   },
   "source": [
    "## Training on YOLO v12 model"
   ]
  },
  {
   "cell_type": "code",
   "execution_count": 14,
   "id": "d38a1011",
   "metadata": {
    "execution": {
     "iopub.execute_input": "2025-04-09T00:03:03.374751Z",
     "iopub.status.busy": "2025-04-09T00:03:03.374451Z",
     "iopub.status.idle": "2025-04-09T00:03:05.462818Z",
     "shell.execute_reply": "2025-04-09T00:03:05.462026Z"
    },
    "papermill": {
     "duration": 2.100782,
     "end_time": "2025-04-09T00:03:05.464364",
     "exception": false,
     "start_time": "2025-04-09T00:03:03.363582",
     "status": "completed"
    },
    "tags": []
   },
   "outputs": [
    {
     "name": "stdout",
     "output_type": "stream",
     "text": [
      "Downloading https://github.com/ultralytics/assets/releases/download/v8.3.0/yolo12x.pt to 'yolo12x.pt'...\n"
     ]
    },
    {
     "name": "stderr",
     "output_type": "stream",
     "text": [
      "100%|██████████| 114M/114M [00:01<00:00, 112MB/s]\n"
     ]
    }
   ],
   "source": [
    "model = YOLO(\"yolo12x.pt\")"
   ]
  },
  {
   "cell_type": "code",
   "execution_count": 15,
   "id": "567f2f52",
   "metadata": {
    "collapsed": true,
    "execution": {
     "iopub.execute_input": "2025-04-09T00:03:05.487576Z",
     "iopub.status.busy": "2025-04-09T00:03:05.487222Z",
     "iopub.status.idle": "2025-04-09T04:27:37.217136Z",
     "shell.execute_reply": "2025-04-09T04:27:37.216151Z"
    },
    "jupyter": {
     "outputs_hidden": true
    },
    "papermill": {
     "duration": 15871.74326,
     "end_time": "2025-04-09T04:27:37.218856",
     "exception": false,
     "start_time": "2025-04-09T00:03:05.475596",
     "status": "completed"
    },
    "tags": []
   },
   "outputs": [
    {
     "name": "stdout",
     "output_type": "stream",
     "text": [
      "Ultralytics 8.3.105 🚀 Python-3.10.12 torch-2.5.1+cu121 CUDA:0 (Tesla P100-PCIE-16GB, 16269MiB)\n",
      "\u001b[34m\u001b[1mengine/trainer: \u001b[0mtask=detect, mode=train, model=yolo12x.pt, data=/kaggle/working/Blood-Cell-Classification-1/data.yaml, epochs=10, time=None, patience=100, batch=0.8, imgsz=640, save=True, save_period=-1, cache=False, device=None, workers=8, project=None, name=train, exist_ok=False, pretrained=True, optimizer=auto, verbose=True, seed=0, deterministic=True, single_cls=False, rect=False, cos_lr=False, close_mosaic=10, resume=False, amp=True, fraction=1.0, profile=False, freeze=None, multi_scale=False, overlap_mask=True, mask_ratio=4, dropout=0.0, val=True, split=val, save_json=False, conf=None, iou=0.7, max_det=300, half=False, dnn=False, plots=True, source=None, vid_stride=1, stream_buffer=False, visualize=False, augment=False, agnostic_nms=False, classes=None, retina_masks=False, embed=None, show=False, save_frames=False, save_txt=False, save_conf=False, save_crop=False, show_labels=True, show_conf=True, show_boxes=True, line_width=None, format=torchscript, keras=False, optimize=False, int8=False, dynamic=False, simplify=True, opset=None, workspace=None, nms=False, lr0=0.01, lrf=0.01, momentum=0.937, weight_decay=0.0005, warmup_epochs=3.0, warmup_momentum=0.8, warmup_bias_lr=0.1, box=7.5, cls=0.5, dfl=1.5, pose=12.0, kobj=1.0, nbs=64, hsv_h=0.015, hsv_s=0.7, hsv_v=0.4, degrees=0.0, translate=0.1, scale=0.5, shear=0.0, perspective=0.0, flipud=0.0, fliplr=0.5, bgr=0.0, mosaic=1.0, mixup=0.0, copy_paste=0.0, copy_paste_mode=flip, auto_augment=randaugment, erasing=0.4, crop_fraction=1.0, cfg=None, tracker=botsort.yaml, save_dir=runs/detect/train\n",
      "Downloading https://ultralytics.com/assets/Arial.ttf to '/root/.config/Ultralytics/Arial.ttf'...\n"
     ]
    },
    {
     "name": "stderr",
     "output_type": "stream",
     "text": [
      "100%|██████████| 755k/755k [00:00<00:00, 25.4MB/s]\n"
     ]
    },
    {
     "name": "stdout",
     "output_type": "stream",
     "text": [
      "Overriding model.yaml nc=80 with nc=4\n",
      "\n",
      "                   from  n    params  module                                       arguments                     \n",
      "  0                  -1  1      2784  ultralytics.nn.modules.conv.Conv             [3, 96, 3, 2]                 \n",
      "  1                  -1  1    166272  ultralytics.nn.modules.conv.Conv             [96, 192, 3, 2]               \n",
      "  2                  -1  2    389760  ultralytics.nn.modules.block.C3k2            [192, 384, 2, True, 0.25]     \n",
      "  3                  -1  1   1327872  ultralytics.nn.modules.conv.Conv             [384, 384, 3, 2]              \n",
      "  4                  -1  2   1553664  ultralytics.nn.modules.block.C3k2            [384, 768, 2, True, 0.25]     \n",
      "  5                  -1  1   5309952  ultralytics.nn.modules.conv.Conv             [768, 768, 3, 2]              \n",
      "  6                  -1  4   9512128  ultralytics.nn.modules.block.A2C2f           [768, 768, 4, True, 4, True, 1.2]\n",
      "  7                  -1  1   5309952  ultralytics.nn.modules.conv.Conv             [768, 768, 3, 2]              \n",
      "  8                  -1  4   9512128  ultralytics.nn.modules.block.A2C2f           [768, 768, 4, True, 1, True, 1.2]\n",
      "  9                  -1  1         0  torch.nn.modules.upsampling.Upsample         [None, 2, 'nearest']          \n",
      " 10             [-1, 6]  1         0  ultralytics.nn.modules.conv.Concat           [1]                           \n",
      " 11                  -1  2   4727040  ultralytics.nn.modules.block.A2C2f           [1536, 768, 2, False, -1, True, 1.2]\n",
      " 12                  -1  1         0  torch.nn.modules.upsampling.Upsample         [None, 2, 'nearest']          \n",
      " 13             [-1, 4]  1         0  ultralytics.nn.modules.conv.Concat           [1]                           \n",
      " 14                  -1  2   1331328  ultralytics.nn.modules.block.A2C2f           [1536, 384, 2, False, -1, True, 1.2]\n",
      " 15                  -1  1   1327872  ultralytics.nn.modules.conv.Conv             [384, 384, 3, 2]              \n",
      " 16            [-1, 11]  1         0  ultralytics.nn.modules.conv.Concat           [1]                           \n",
      " 17                  -1  2   4579584  ultralytics.nn.modules.block.A2C2f           [1152, 768, 2, False, -1, True, 1.2]\n",
      " 18                  -1  1   5309952  ultralytics.nn.modules.conv.Conv             [768, 768, 3, 2]              \n",
      " 19             [-1, 8]  1         0  ultralytics.nn.modules.conv.Concat           [1]                           \n",
      " 20                  -1  2   5612544  ultralytics.nn.modules.block.C3k2            [1536, 768, 2, True]          \n",
      " 21        [14, 17, 20]  1   3150172  ultralytics.nn.modules.head.Detect           [4, [384, 768, 768]]          \n",
      "YOLOv12x summary: 488 layers, 59,123,004 parameters, 59,122,988 gradients, 199.8 GFLOPs\n",
      "\n",
      "Transferred 1239/1245 items from pretrained weights\n",
      "\u001b[34m\u001b[1mTensorBoard: \u001b[0mStart with 'tensorboard --logdir runs/detect/train', view at http://localhost:6006/\n",
      "Freezing layer 'model.21.dfl.conv.weight'\n",
      "\u001b[34m\u001b[1mAMP: \u001b[0mrunning Automatic Mixed Precision (AMP) checks...\n",
      "Downloading https://github.com/ultralytics/assets/releases/download/v8.3.0/yolo11n.pt to 'yolo11n.pt'...\n"
     ]
    },
    {
     "name": "stderr",
     "output_type": "stream",
     "text": [
      "100%|██████████| 5.35M/5.35M [00:00<00:00, 101MB/s]\n"
     ]
    },
    {
     "name": "stdout",
     "output_type": "stream",
     "text": [
      "\u001b[34m\u001b[1mAMP: \u001b[0mchecks passed ✅\n"
     ]
    },
    {
     "name": "stderr",
     "output_type": "stream",
     "text": [
      "\u001b[34m\u001b[1mtrain: \u001b[0mScanning /kaggle/working/Blood-Cell-Classification-1/train/labels... 9267 images, 3 backgrounds, 0 corrupt: 100%|██████████| 9267/9267 [00:08<00:00, 1057.49it/s]\n"
     ]
    },
    {
     "name": "stdout",
     "output_type": "stream",
     "text": [
      "\u001b[34m\u001b[1mtrain: \u001b[0mNew cache created: /kaggle/working/Blood-Cell-Classification-1/train/labels.cache\n",
      "WARNING ⚠️ Box and segment counts should be equal, but got len(segments) = 2808, len(boxes) = 9417. To resolve this only boxes will be used and all segments will be removed. To avoid this please supply either a detect or segment dataset, not a detect-segment mixed dataset.\n",
      "\u001b[34m\u001b[1malbumentations: \u001b[0mBlur(p=0.01, blur_limit=(3, 7)), MedianBlur(p=0.01, blur_limit=(3, 7)), ToGray(p=0.01, num_output_channels=3, method='weighted_average'), CLAHE(p=0.01, clip_limit=(1.0, 4.0), tile_grid_size=(8, 8))\n",
      "\u001b[34m\u001b[1mAutoBatch: \u001b[0mComputing optimal batch size for imgsz=640 at 80.0% CUDA memory utilization.\n",
      "\u001b[34m\u001b[1mAutoBatch: \u001b[0mCUDA:0 (Tesla P100-PCIE-16GB) 15.89G total, 0.50G reserved, 0.49G allocated, 14.89G free\n"
     ]
    },
    {
     "name": "stderr",
     "output_type": "stream",
     "text": [
      "A new version of Albumentations is available: 2.0.5 (you have 1.4.20). Upgrade using: pip install -U albumentations. To disable automatic update checks, set the environment variable NO_ALBUMENTATIONS_UPDATE to 1.\n"
     ]
    },
    {
     "name": "stdout",
     "output_type": "stream",
     "text": [
      "      Params      GFLOPs  GPU_mem (GB)  forward (ms) backward (ms)                   input                  output\n",
      "    59123004       199.8         4.345         116.8         409.8        (1, 3, 640, 640)                    list\n",
      "    59123004       399.7         6.419         102.5         323.3        (2, 3, 640, 640)                    list\n",
      "    59123004       799.3        10.274         192.9         488.6        (4, 3, 640, 640)                    list\n",
      "    59123004        1599        17.041         365.8         856.9        (8, 3, 640, 640)                    list\n",
      "CUDA out of memory. Tried to allocate 20.00 MiB. GPU 0 has a total capacity of 15.89 GiB of which 39.12 MiB is free. Process 2702 has 15.85 GiB memory in use. Of the allocated memory 15.25 GiB is allocated by PyTorch, and 256.88 MiB is reserved by PyTorch but unallocated. If reserved but unallocated memory is large try setting PYTORCH_CUDA_ALLOC_CONF=expandable_segments:True to avoid fragmentation.  See documentation for Memory Management  (https://pytorch.org/docs/stable/notes/cuda.html#environment-variables)\n",
      "\u001b[34m\u001b[1mAutoBatch: \u001b[0mUsing batch-size 5 for CUDA:0 12.64G/15.89G (80%) ✅\n"
     ]
    },
    {
     "name": "stderr",
     "output_type": "stream",
     "text": [
      "\u001b[34m\u001b[1mtrain: \u001b[0mScanning /kaggle/working/Blood-Cell-Classification-1/train/labels.cache... 9267 images, 3 backgrounds, 0 corrupt: 100%|██████████| 9267/9267 [00:00<?, ?it/s]"
     ]
    },
    {
     "name": "stdout",
     "output_type": "stream",
     "text": [
      "WARNING ⚠️ Box and segment counts should be equal, but got len(segments) = 2808, len(boxes) = 9417. To resolve this only boxes will be used and all segments will be removed. To avoid this please supply either a detect or segment dataset, not a detect-segment mixed dataset.\n",
      "\u001b[34m\u001b[1malbumentations: \u001b[0mBlur(p=0.01, blur_limit=(3, 7)), MedianBlur(p=0.01, blur_limit=(3, 7)), ToGray(p=0.01, num_output_channels=3, method='weighted_average'), CLAHE(p=0.01, clip_limit=(1.0, 4.0), tile_grid_size=(8, 8))\n"
     ]
    },
    {
     "name": "stderr",
     "output_type": "stream",
     "text": [
      "\n",
      "\u001b[34m\u001b[1mval: \u001b[0mScanning /kaggle/working/Blood-Cell-Classification-1/valid/labels... 882 images, 0 backgrounds, 0 corrupt: 100%|██████████| 882/882 [00:00<00:00, 935.37it/s]"
     ]
    },
    {
     "name": "stdout",
     "output_type": "stream",
     "text": [
      "\u001b[34m\u001b[1mval: \u001b[0mNew cache created: /kaggle/working/Blood-Cell-Classification-1/valid/labels.cache\n",
      "WARNING ⚠️ Box and segment counts should be equal, but got len(segments) = 260, len(boxes) = 902. To resolve this only boxes will be used and all segments will be removed. To avoid this please supply either a detect or segment dataset, not a detect-segment mixed dataset.\n"
     ]
    },
    {
     "name": "stderr",
     "output_type": "stream",
     "text": [
      "\n"
     ]
    },
    {
     "name": "stdout",
     "output_type": "stream",
     "text": [
      "Plotting labels to runs/detect/train/labels.jpg... \n",
      "\u001b[34m\u001b[1moptimizer:\u001b[0m 'optimizer=auto' found, ignoring 'lr0=0.01' and 'momentum=0.937' and determining best 'optimizer', 'lr0' and 'momentum' automatically... \n",
      "\u001b[34m\u001b[1moptimizer:\u001b[0m AdamW(lr=0.00125, momentum=0.9) with parameter groups 205 weight(decay=0.0), 214 weight(decay=0.0005078125), 211 bias(decay=0.0)\n",
      "\u001b[34m\u001b[1mTensorBoard: \u001b[0mmodel graph visualization added ✅\n",
      "Image sizes 640 train, 640 val\n",
      "Using 4 dataloader workers\n",
      "Logging results to \u001b[1mruns/detect/train\u001b[0m\n",
      "Starting training for 10 epochs...\n",
      "Closing dataloader mosaic\n",
      "\u001b[34m\u001b[1malbumentations: \u001b[0mBlur(p=0.01, blur_limit=(3, 7)), MedianBlur(p=0.01, blur_limit=(3, 7)), ToGray(p=0.01, num_output_channels=3, method='weighted_average'), CLAHE(p=0.01, clip_limit=(1.0, 4.0), tile_grid_size=(8, 8))\n",
      "\n",
      "      Epoch    GPU_mem   box_loss   cls_loss   dfl_loss  Instances       Size\n"
     ]
    },
    {
     "name": "stderr",
     "output_type": "stream",
     "text": [
      "       1/10      9.38G      1.017      1.135        1.7          2        640: 100%|██████████| 1854/1854 [26:09<00:00,  1.18it/s]\n",
      "                 Class     Images  Instances      Box(P          R      mAP50  mAP50-95): 100%|██████████| 89/89 [00:42<00:00,  2.08it/s]"
     ]
    },
    {
     "name": "stdout",
     "output_type": "stream",
     "text": [
      "                   all        882        902      0.873      0.875       0.95      0.755\n"
     ]
    },
    {
     "name": "stderr",
     "output_type": "stream",
     "text": [
      "\n"
     ]
    },
    {
     "name": "stdout",
     "output_type": "stream",
     "text": [
      "\n",
      "      Epoch    GPU_mem   box_loss   cls_loss   dfl_loss  Instances       Size\n"
     ]
    },
    {
     "name": "stderr",
     "output_type": "stream",
     "text": [
      "       2/10      9.42G        nan        nan        nan          2        640: 100%|██████████| 1854/1854 [25:36<00:00,  1.21it/s]\n",
      "                 Class     Images  Instances      Box(P          R      mAP50  mAP50-95): 100%|██████████| 89/89 [00:41<00:00,  2.17it/s]"
     ]
    },
    {
     "name": "stdout",
     "output_type": "stream",
     "text": [
      "                   all        882        902          0          0          0          0\n"
     ]
    },
    {
     "name": "stderr",
     "output_type": "stream",
     "text": [
      "\n"
     ]
    },
    {
     "name": "stdout",
     "output_type": "stream",
     "text": [
      "\n",
      "      Epoch    GPU_mem   box_loss   cls_loss   dfl_loss  Instances       Size\n"
     ]
    },
    {
     "name": "stderr",
     "output_type": "stream",
     "text": [
      "       3/10      9.42G     0.8445     0.6201      1.488          2        640: 100%|██████████| 1854/1854 [25:29<00:00,  1.21it/s]\n",
      "                 Class     Images  Instances      Box(P          R      mAP50  mAP50-95): 100%|██████████| 89/89 [00:41<00:00,  2.17it/s]"
     ]
    },
    {
     "name": "stdout",
     "output_type": "stream",
     "text": [
      "                   all        882        902          0          0          0          0\n"
     ]
    },
    {
     "name": "stderr",
     "output_type": "stream",
     "text": [
      "\n"
     ]
    },
    {
     "name": "stdout",
     "output_type": "stream",
     "text": [
      "\n",
      "      Epoch    GPU_mem   box_loss   cls_loss   dfl_loss  Instances       Size\n"
     ]
    },
    {
     "name": "stderr",
     "output_type": "stream",
     "text": [
      "       4/10      9.42G        nan        nan        nan          2        640: 100%|██████████| 1854/1854 [25:27<00:00,  1.21it/s]\n",
      "                 Class     Images  Instances      Box(P          R      mAP50  mAP50-95): 100%|██████████| 89/89 [00:41<00:00,  2.16it/s]"
     ]
    },
    {
     "name": "stdout",
     "output_type": "stream",
     "text": [
      "                   all        882        902          0          0          0          0\n"
     ]
    },
    {
     "name": "stderr",
     "output_type": "stream",
     "text": [
      "\n"
     ]
    },
    {
     "name": "stdout",
     "output_type": "stream",
     "text": [
      "\n",
      "      Epoch    GPU_mem   box_loss   cls_loss   dfl_loss  Instances       Size\n"
     ]
    },
    {
     "name": "stderr",
     "output_type": "stream",
     "text": [
      "       5/10      9.42G     0.7402     0.5126       1.39          2        640: 100%|██████████| 1854/1854 [25:27<00:00,  1.21it/s]\n",
      "                 Class     Images  Instances      Box(P          R      mAP50  mAP50-95): 100%|██████████| 89/89 [00:41<00:00,  2.16it/s]"
     ]
    },
    {
     "name": "stdout",
     "output_type": "stream",
     "text": [
      "                   all        882        902          0          0          0          0\n"
     ]
    },
    {
     "name": "stderr",
     "output_type": "stream",
     "text": [
      "\n"
     ]
    },
    {
     "name": "stdout",
     "output_type": "stream",
     "text": [
      "\n",
      "      Epoch    GPU_mem   box_loss   cls_loss   dfl_loss  Instances       Size\n"
     ]
    },
    {
     "name": "stderr",
     "output_type": "stream",
     "text": [
      "       6/10      9.42G     0.6952     0.4685      1.345          2        640: 100%|██████████| 1854/1854 [25:27<00:00,  1.21it/s]\n",
      "                 Class     Images  Instances      Box(P          R      mAP50  mAP50-95): 100%|██████████| 89/89 [00:41<00:00,  2.16it/s]"
     ]
    },
    {
     "name": "stdout",
     "output_type": "stream",
     "text": [
      "                   all        882        902          0          0          0          0\n"
     ]
    },
    {
     "name": "stderr",
     "output_type": "stream",
     "text": [
      "\n"
     ]
    },
    {
     "name": "stdout",
     "output_type": "stream",
     "text": [
      "\n",
      "      Epoch    GPU_mem   box_loss   cls_loss   dfl_loss  Instances       Size\n"
     ]
    },
    {
     "name": "stderr",
     "output_type": "stream",
     "text": [
      "       7/10      9.42G     0.6748     0.4395      1.319          2        640: 100%|██████████| 1854/1854 [25:27<00:00,  1.21it/s]\n",
      "                 Class     Images  Instances      Box(P          R      mAP50  mAP50-95): 100%|██████████| 89/89 [00:41<00:00,  2.16it/s]"
     ]
    },
    {
     "name": "stdout",
     "output_type": "stream",
     "text": [
      "                   all        882        902          0          0          0          0\n"
     ]
    },
    {
     "name": "stderr",
     "output_type": "stream",
     "text": [
      "\n"
     ]
    },
    {
     "name": "stdout",
     "output_type": "stream",
     "text": [
      "\n",
      "      Epoch    GPU_mem   box_loss   cls_loss   dfl_loss  Instances       Size\n"
     ]
    },
    {
     "name": "stderr",
     "output_type": "stream",
     "text": [
      "       8/10      9.42G     0.6422     0.4089      1.294          2        640: 100%|██████████| 1854/1854 [25:28<00:00,  1.21it/s]\n",
      "                 Class     Images  Instances      Box(P          R      mAP50  mAP50-95): 100%|██████████| 89/89 [00:41<00:00,  2.16it/s]"
     ]
    },
    {
     "name": "stdout",
     "output_type": "stream",
     "text": [
      "                   all        882        902          0          0          0          0\n"
     ]
    },
    {
     "name": "stderr",
     "output_type": "stream",
     "text": [
      "\n"
     ]
    },
    {
     "name": "stdout",
     "output_type": "stream",
     "text": [
      "\n",
      "      Epoch    GPU_mem   box_loss   cls_loss   dfl_loss  Instances       Size\n"
     ]
    },
    {
     "name": "stderr",
     "output_type": "stream",
     "text": [
      "       9/10      9.42G      0.618     0.3932      1.264          2        640: 100%|██████████| 1854/1854 [25:27<00:00,  1.21it/s]\n",
      "                 Class     Images  Instances      Box(P          R      mAP50  mAP50-95): 100%|██████████| 89/89 [00:41<00:00,  2.16it/s]"
     ]
    },
    {
     "name": "stdout",
     "output_type": "stream",
     "text": [
      "                   all        882        902          0          0          0          0\n"
     ]
    },
    {
     "name": "stderr",
     "output_type": "stream",
     "text": [
      "\n"
     ]
    },
    {
     "name": "stdout",
     "output_type": "stream",
     "text": [
      "\n",
      "      Epoch    GPU_mem   box_loss   cls_loss   dfl_loss  Instances       Size\n"
     ]
    },
    {
     "name": "stderr",
     "output_type": "stream",
     "text": [
      "      10/10      9.42G     0.5946     0.3684      1.241          2        640: 100%|██████████| 1854/1854 [25:28<00:00,  1.21it/s]\n",
      "                 Class     Images  Instances      Box(P          R      mAP50  mAP50-95): 100%|██████████| 89/89 [00:41<00:00,  2.16it/s]"
     ]
    },
    {
     "name": "stdout",
     "output_type": "stream",
     "text": [
      "                   all        882        902          0          0          0          0\n"
     ]
    },
    {
     "name": "stderr",
     "output_type": "stream",
     "text": [
      "\n"
     ]
    },
    {
     "name": "stdout",
     "output_type": "stream",
     "text": [
      "\n",
      "10 epochs completed in 4.381 hours.\n",
      "Optimizer stripped from runs/detect/train/weights/last.pt, 119.1MB\n",
      "Optimizer stripped from runs/detect/train/weights/best.pt, 119.1MB\n",
      "\n",
      "Validating runs/detect/train/weights/best.pt...\n",
      "Ultralytics 8.3.105 🚀 Python-3.10.12 torch-2.5.1+cu121 CUDA:0 (Tesla P100-PCIE-16GB, 16269MiB)\n",
      "YOLOv12x summary (fused): 283 layers, 59,047,964 parameters, 0 gradients, 198.5 GFLOPs\n"
     ]
    },
    {
     "name": "stderr",
     "output_type": "stream",
     "text": [
      "                 Class     Images  Instances      Box(P          R      mAP50  mAP50-95): 100%|██████████| 89/89 [00:41<00:00,  2.14it/s]\n"
     ]
    },
    {
     "name": "stdout",
     "output_type": "stream",
     "text": [
      "                   all        882        902      0.873      0.875       0.95      0.755\n",
      "            eosinophil        280        281      0.995      0.749      0.979      0.826\n",
      "            lymphocyte        243        244      0.853      0.975      0.986      0.806\n",
      "            neutrophil        201        201      0.797       0.95      0.959      0.767\n",
      "              platelet        159        176      0.848      0.824      0.877       0.62\n"
     ]
    },
    {
     "name": "stderr",
     "output_type": "stream",
     "text": [
      "invalid value encountered in less\n",
      "invalid value encountered in less\n"
     ]
    },
    {
     "name": "stdout",
     "output_type": "stream",
     "text": [
      "Speed: 0.2ms preprocess, 43.8ms inference, 0.0ms loss, 0.7ms postprocess per image\n",
      "Results saved to \u001b[1mruns/detect/train\u001b[0m\n"
     ]
    }
   ],
   "source": [
    "# Training YOLOv12x model for 10 epochs \n",
    "results = model.train(data=\"/kaggle/working/Blood-Cell-Classification-1/data.yaml\", epochs=10, \n",
    "                      imgsz=640, batch=0.8)"
   ]
  },
  {
   "cell_type": "code",
   "execution_count": 16,
   "id": "3ee1a9e9",
   "metadata": {
    "execution": {
     "iopub.execute_input": "2025-04-09T04:27:41.255624Z",
     "iopub.status.busy": "2025-04-09T04:27:41.255242Z",
     "iopub.status.idle": "2025-04-09T04:28:29.728431Z",
     "shell.execute_reply": "2025-04-09T04:28:29.726051Z"
    },
    "papermill": {
     "duration": 50.588059,
     "end_time": "2025-04-09T04:28:29.730061",
     "exception": false,
     "start_time": "2025-04-09T04:27:39.142002",
     "status": "completed"
    },
    "tags": []
   },
   "outputs": [
    {
     "name": "stdout",
     "output_type": "stream",
     "text": [
      "Ultralytics 8.3.105 🚀 Python-3.10.12 torch-2.5.1+cu121 CUDA:0 (Tesla P100-PCIE-16GB, 16269MiB)\n",
      "YOLOv12x summary (fused): 283 layers, 59,047,964 parameters, 0 gradients, 198.5 GFLOPs\n"
     ]
    },
    {
     "name": "stderr",
     "output_type": "stream",
     "text": [
      "\u001b[34m\u001b[1mval: \u001b[0mScanning /kaggle/working/Blood-Cell-Classification-1/valid/labels.cache... 882 images, 0 backgrounds, 0 corrupt: 100%|██████████| 882/882 [00:00<?, ?it/s]"
     ]
    },
    {
     "name": "stdout",
     "output_type": "stream",
     "text": [
      "WARNING ⚠️ Box and segment counts should be equal, but got len(segments) = 260, len(boxes) = 902. To resolve this only boxes will be used and all segments will be removed. To avoid this please supply either a detect or segment dataset, not a detect-segment mixed dataset.\n"
     ]
    },
    {
     "name": "stderr",
     "output_type": "stream",
     "text": [
      "\n",
      "                 Class     Images  Instances      Box(P          R      mAP50  mAP50-95): 100%|██████████| 177/177 [00:44<00:00,  4.00it/s]\n"
     ]
    },
    {
     "name": "stdout",
     "output_type": "stream",
     "text": [
      "                   all        882        902      0.873      0.875       0.95      0.755\n",
      "            eosinophil        280        281      0.995       0.75      0.979      0.826\n",
      "            lymphocyte        243        244      0.853      0.975      0.986      0.806\n",
      "            neutrophil        201        201      0.796       0.95      0.959      0.769\n",
      "              platelet        159        176      0.848      0.825      0.878       0.62\n"
     ]
    },
    {
     "name": "stderr",
     "output_type": "stream",
     "text": [
      "invalid value encountered in less\n",
      "invalid value encountered in less\n"
     ]
    },
    {
     "name": "stdout",
     "output_type": "stream",
     "text": [
      "Speed: 0.2ms preprocess, 46.5ms inference, 0.0ms loss, 0.7ms postprocess per image\n",
      "Results saved to \u001b[1mruns/detect/train2\u001b[0m\n"
     ]
    }
   ],
   "source": [
    "metrics = model.val()"
   ]
  },
  {
   "cell_type": "code",
   "execution_count": 17,
   "id": "4bf6838d",
   "metadata": {
    "execution": {
     "iopub.execute_input": "2025-04-09T04:28:33.579486Z",
     "iopub.status.busy": "2025-04-09T04:28:33.579105Z",
     "iopub.status.idle": "2025-04-09T04:28:33.584885Z",
     "shell.execute_reply": "2025-04-09T04:28:33.583846Z"
    },
    "papermill": {
     "duration": 1.944917,
     "end_time": "2025-04-09T04:28:33.586097",
     "exception": false,
     "start_time": "2025-04-09T04:28:31.641180",
     "status": "completed"
    },
    "tags": []
   },
   "outputs": [
    {
     "name": "stdout",
     "output_type": "stream",
     "text": [
      "0.7551514135532005\n",
      "0.9504707145888704\n",
      "0.910138623920323\n",
      "[    0.82602     0.80597     0.76863     0.61998]\n"
     ]
    }
   ],
   "source": [
    "print(metrics.box.map)  # mAP50-95\n",
    "print(metrics.box.map50)  # mAP50\n",
    "print(metrics.box.map75)  # mAP75\n",
    "print(metrics.box.maps)  # list of mAP50-95 for each category"
   ]
  }
 ],
 "metadata": {
  "kaggle": {
   "accelerator": "gpu",
   "dataSources": [],
   "dockerImageVersionId": 30919,
   "isGpuEnabled": true,
   "isInternetEnabled": true,
   "language": "python",
   "sourceType": "notebook"
  },
  "kernelspec": {
   "display_name": "Python 3",
   "language": "python",
   "name": "python3"
  },
  "language_info": {
   "codemirror_mode": {
    "name": "ipython",
    "version": 3
   },
   "file_extension": ".py",
   "mimetype": "text/x-python",
   "name": "python",
   "nbconvert_exporter": "python",
   "pygments_lexer": "ipython3",
   "version": "3.10.12"
  },
  "papermill": {
   "default_parameters": {},
   "duration": 15969.391357,
   "end_time": "2025-04-09T04:28:39.287555",
   "environment_variables": {},
   "exception": null,
   "input_path": "__notebook__.ipynb",
   "output_path": "__notebook__.ipynb",
   "parameters": {},
   "start_time": "2025-04-09T00:02:29.896198",
   "version": "2.6.0"
  }
 },
 "nbformat": 4,
 "nbformat_minor": 5
}
